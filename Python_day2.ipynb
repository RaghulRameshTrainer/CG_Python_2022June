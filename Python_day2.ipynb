{
 "cells": [
  {
   "cell_type": "code",
   "execution_count": 15,
   "id": "1072c876",
   "metadata": {},
   "outputs": [
    {
     "name": "stdout",
     "output_type": "stream",
     "text": [
      "raghul ramesh ===> Python ===> Chennai\n"
     ]
    }
   ],
   "source": [
    "emp_info={\n",
    "    1000:['raghul ramesh','Python','Levin Lenus','India','Chennai',17],\n",
    "    1001:['Bala Murugan','Big Data','Srivanand','USA','Dearborn',20],\n",
    "}\n",
    "\n",
    "for key in emp_info.keys():\n",
    "    if key<=1000:\n",
    "            print(emp_info[key][0] + \" ===> \" + emp_info[key][1]+\" ===> \" + emp_info[key][-2])"
   ]
  },
  {
   "cell_type": "code",
   "execution_count": 12,
   "id": "66c81235",
   "metadata": {},
   "outputs": [
    {
     "data": {
      "text/plain": [
       "1000"
      ]
     },
     "execution_count": 12,
     "metadata": {},
     "output_type": "execute_result"
    }
   ],
   "source": [
    "list(emp_info.keys())[0]"
   ]
  },
  {
   "cell_type": "markdown",
   "id": "f1d79902",
   "metadata": {},
   "source": [
    "# Definitions"
   ]
  },
  {
   "cell_type": "code",
   "execution_count": 16,
   "id": "46836a1f",
   "metadata": {},
   "outputs": [],
   "source": [
    "def add_num(x,y):\n",
    "    res=x+y\n",
    "    return res"
   ]
  },
  {
   "cell_type": "code",
   "execution_count": 17,
   "id": "37fe1f1c",
   "metadata": {},
   "outputs": [
    {
     "data": {
      "text/plain": [
       "30"
      ]
     },
     "execution_count": 17,
     "metadata": {},
     "output_type": "execute_result"
    }
   ],
   "source": [
    "add_num(10,20)"
   ]
  },
  {
   "cell_type": "code",
   "execution_count": 18,
   "id": "b2e2383c",
   "metadata": {},
   "outputs": [
    {
     "data": {
      "text/plain": [
       "11"
      ]
     },
     "execution_count": 18,
     "metadata": {},
     "output_type": "execute_result"
    }
   ],
   "source": [
    "add_num(5,6)"
   ]
  },
  {
   "cell_type": "code",
   "execution_count": 19,
   "id": "01ed7e0f",
   "metadata": {},
   "outputs": [
    {
     "ename": "TypeError",
     "evalue": "add_num() missing 1 required positional argument: 'y'",
     "output_type": "error",
     "traceback": [
      "\u001b[1;31m---------------------------------------------------------------------------\u001b[0m",
      "\u001b[1;31mTypeError\u001b[0m                                 Traceback (most recent call last)",
      "Input \u001b[1;32mIn [19]\u001b[0m, in \u001b[0;36m<cell line: 1>\u001b[1;34m()\u001b[0m\n\u001b[1;32m----> 1\u001b[0m \u001b[43madd_num\u001b[49m\u001b[43m(\u001b[49m\u001b[38;5;241;43m10\u001b[39;49m\u001b[43m)\u001b[49m\n",
      "\u001b[1;31mTypeError\u001b[0m: add_num() missing 1 required positional argument: 'y'"
     ]
    }
   ],
   "source": [
    "add_num(10)"
   ]
  },
  {
   "cell_type": "code",
   "execution_count": 20,
   "id": "c1493aec",
   "metadata": {},
   "outputs": [],
   "source": [
    "def add_num(x,y=0):    # Default argument\n",
    "    return x+y"
   ]
  },
  {
   "cell_type": "code",
   "execution_count": 21,
   "id": "93e22de7",
   "metadata": {},
   "outputs": [
    {
     "data": {
      "text/plain": [
       "300"
      ]
     },
     "execution_count": 21,
     "metadata": {},
     "output_type": "execute_result"
    }
   ],
   "source": [
    "add_num(100,200)"
   ]
  },
  {
   "cell_type": "code",
   "execution_count": 22,
   "id": "5b9dff9d",
   "metadata": {},
   "outputs": [
    {
     "data": {
      "text/plain": [
       "100"
      ]
     },
     "execution_count": 22,
     "metadata": {},
     "output_type": "execute_result"
    }
   ],
   "source": [
    "add_num(100)"
   ]
  },
  {
   "cell_type": "code",
   "execution_count": 23,
   "id": "65ae1a64",
   "metadata": {},
   "outputs": [
    {
     "ename": "TypeError",
     "evalue": "add_num() takes from 1 to 2 positional arguments but 5 were given",
     "output_type": "error",
     "traceback": [
      "\u001b[1;31m---------------------------------------------------------------------------\u001b[0m",
      "\u001b[1;31mTypeError\u001b[0m                                 Traceback (most recent call last)",
      "Input \u001b[1;32mIn [23]\u001b[0m, in \u001b[0;36m<cell line: 1>\u001b[1;34m()\u001b[0m\n\u001b[1;32m----> 1\u001b[0m \u001b[43madd_num\u001b[49m\u001b[43m(\u001b[49m\u001b[38;5;241;43m10\u001b[39;49m\u001b[43m,\u001b[49m\u001b[38;5;241;43m20\u001b[39;49m\u001b[43m,\u001b[49m\u001b[38;5;241;43m30\u001b[39;49m\u001b[43m,\u001b[49m\u001b[38;5;241;43m40\u001b[39;49m\u001b[43m,\u001b[49m\u001b[38;5;241;43m50\u001b[39;49m\u001b[43m)\u001b[49m\n",
      "\u001b[1;31mTypeError\u001b[0m: add_num() takes from 1 to 2 positional arguments but 5 were given"
     ]
    }
   ],
   "source": [
    "add_num(10,20,30,40,50)"
   ]
  },
  {
   "cell_type": "code",
   "execution_count": 37,
   "id": "e9c3c7f8",
   "metadata": {},
   "outputs": [],
   "source": [
    "def add_num(x,y,*z):\n",
    "#     print(x)\n",
    "#     print(y)\n",
    "#     print(z)\n",
    "    return x+y+sum(z)"
   ]
  },
  {
   "cell_type": "code",
   "execution_count": 39,
   "id": "17bfa067",
   "metadata": {},
   "outputs": [
    {
     "name": "stdout",
     "output_type": "stream",
     "text": [
      "550\n"
     ]
    }
   ],
   "source": [
    "print(add_num(10,20,30,40,50,60,70,80,90,100))"
   ]
  },
  {
   "cell_type": "code",
   "execution_count": 40,
   "id": "78e14a9b",
   "metadata": {},
   "outputs": [],
   "source": [
    "def print_info(x,*y,**z):\n",
    "    print(x)\n",
    "    print(y)\n",
    "    print(z)"
   ]
  },
  {
   "cell_type": "code",
   "execution_count": 41,
   "id": "ed929d7c",
   "metadata": {},
   "outputs": [
    {
     "name": "stdout",
     "output_type": "stream",
     "text": [
      "10\n",
      "(20, 30, 40, 50)\n",
      "{'name': 'Siva', 'location': 'Newjercy', 'age': 30}\n"
     ]
    }
   ],
   "source": [
    "print_info(10,20,30,40,50,name=\"Siva\",location=\"Newjercy\",age=30)"
   ]
  },
  {
   "cell_type": "code",
   "execution_count": 45,
   "id": "d78de6bd",
   "metadata": {},
   "outputs": [],
   "source": [
    "def add_num(x,y):\n",
    "    \"\"\"add_num function must be called with two integer to get the sum of these.\"\"\"\n",
    "    return x+y"
   ]
  },
  {
   "cell_type": "code",
   "execution_count": 46,
   "id": "623dc49b",
   "metadata": {},
   "outputs": [
    {
     "data": {
      "text/plain": [
       "30"
      ]
     },
     "execution_count": 46,
     "metadata": {},
     "output_type": "execute_result"
    }
   ],
   "source": [
    "add_num(10,20)"
   ]
  },
  {
   "cell_type": "code",
   "execution_count": 47,
   "id": "f84baf11",
   "metadata": {},
   "outputs": [
    {
     "data": {
      "text/plain": [
       "'add_num function must be called with two integer to get the sum of these.'"
      ]
     },
     "execution_count": 47,
     "metadata": {},
     "output_type": "execute_result"
    }
   ],
   "source": [
    "add_num.__doc__"
   ]
  },
  {
   "cell_type": "code",
   "execution_count": 50,
   "id": "c30d8d01",
   "metadata": {},
   "outputs": [
    {
     "data": {
      "text/plain": [
       "15"
      ]
     },
     "execution_count": 50,
     "metadata": {},
     "output_type": "execute_result"
    }
   ],
   "source": [
    "add_num(10,5)"
   ]
  },
  {
   "cell_type": "markdown",
   "id": "d7e6de5a",
   "metadata": {},
   "source": [
    "# Variable Scope"
   ]
  },
  {
   "cell_type": "code",
   "execution_count": 54,
   "id": "f34bb6df",
   "metadata": {},
   "outputs": [
    {
     "name": "stdout",
     "output_type": "stream",
     "text": [
      "Age before the function call: 37\n",
      "Age inside a function is : 38\n",
      "Age after the function call: 38\n"
     ]
    }
   ],
   "source": [
    "#local scope and global scope\n",
    "\n",
    "age=37    #global variable\n",
    "\n",
    "def birthday():\n",
    "    #age=100    #local variable\n",
    "    global age\n",
    "    age=age+1\n",
    "    print(\"Age inside a function is :\",age)  #100\n",
    "    \n",
    "print(\"Age before the function call:\",age)    #37\n",
    "birthday()\n",
    "print(\"Age after the function call:\",age)   #37"
   ]
  },
  {
   "cell_type": "code",
   "execution_count": 65,
   "id": "afae1e4e",
   "metadata": {},
   "outputs": [],
   "source": [
    "def calc_area(r):\n",
    "    area = 3.14*r**2\n",
    "    print(\"Area of circle: \" ,area)"
   ]
  },
  {
   "cell_type": "code",
   "execution_count": 66,
   "id": "28eb46a9",
   "metadata": {},
   "outputs": [
    {
     "name": "stdout",
     "output_type": "stream",
     "text": [
      "Area of circle:  78.5\n"
     ]
    }
   ],
   "source": [
    "calc_area(5)"
   ]
  },
  {
   "cell_type": "code",
   "execution_count": 70,
   "id": "bd5fdb1a",
   "metadata": {},
   "outputs": [],
   "source": [
    "def calc_area(x,y=0):\n",
    "    if y == 0:\n",
    "        print(\"Area of the circle with radius {} cm is : {} cm2\".format(x,0.5*x**2))\n",
    "    else:\n",
    "        print(\"Area of the rectangle with base : {} cm, height :{} cm is : {} cm2\".format(x,y,x*y))"
   ]
  },
  {
   "cell_type": "code",
   "execution_count": 71,
   "id": "1170fd7c",
   "metadata": {},
   "outputs": [
    {
     "name": "stdout",
     "output_type": "stream",
     "text": [
      "Area of the circle with radius 5 cm is : 12.5 cm2\n"
     ]
    }
   ],
   "source": [
    "calc_area(5)"
   ]
  },
  {
   "cell_type": "code",
   "execution_count": 72,
   "id": "20f6c982",
   "metadata": {},
   "outputs": [
    {
     "name": "stdout",
     "output_type": "stream",
     "text": [
      "Area of the rectangle with base : 5 cm, height :2 cm is : 10 cm2\n"
     ]
    }
   ],
   "source": [
    "calc_area(5,2)"
   ]
  },
  {
   "cell_type": "markdown",
   "id": "a738e801",
   "metadata": {},
   "source": [
    "# Special Functions"
   ]
  },
  {
   "cell_type": "code",
   "execution_count": null,
   "id": "5a18bf19",
   "metadata": {},
   "outputs": [],
   "source": [
    "'''\n",
    "lambda\n",
    "map\n",
    "filter\n",
    "reduce\n",
    "'''"
   ]
  },
  {
   "cell_type": "code",
   "execution_count": 73,
   "id": "509ce3f8",
   "metadata": {},
   "outputs": [
    {
     "data": {
      "text/plain": [
       "30"
      ]
     },
     "execution_count": 73,
     "metadata": {},
     "output_type": "execute_result"
    }
   ],
   "source": [
    "#lambda x,y:expr\n",
    "\n",
    "(lambda x,y:x+y)(10,20)"
   ]
  },
  {
   "cell_type": "code",
   "execution_count": 74,
   "id": "8d6724b1",
   "metadata": {},
   "outputs": [
    {
     "data": {
      "text/plain": [
       "11"
      ]
     },
     "execution_count": 74,
     "metadata": {},
     "output_type": "execute_result"
    }
   ],
   "source": [
    "(lambda x,y:x+y)(5,6)"
   ]
  },
  {
   "cell_type": "code",
   "execution_count": 75,
   "id": "490c14c7",
   "metadata": {},
   "outputs": [
    {
     "data": {
      "text/plain": [
       "33"
      ]
     },
     "execution_count": 75,
     "metadata": {},
     "output_type": "execute_result"
    }
   ],
   "source": [
    "#find a big number\n",
    "\n",
    "(lambda x,y : x if x>y else y )(33,21)"
   ]
  },
  {
   "cell_type": "code",
   "execution_count": 76,
   "id": "ec6f0892",
   "metadata": {},
   "outputs": [
    {
     "data": {
      "text/plain": [
       "21"
      ]
     },
     "execution_count": 76,
     "metadata": {},
     "output_type": "execute_result"
    }
   ],
   "source": [
    "(lambda x,y : x if x<y else y )(33,21)"
   ]
  },
  {
   "cell_type": "code",
   "execution_count": 77,
   "id": "cb978cb7",
   "metadata": {},
   "outputs": [],
   "source": [
    "def findbig(x,y):\n",
    "    return (lambda x,y:x if x>y else y)(x,y)"
   ]
  },
  {
   "cell_type": "code",
   "execution_count": 78,
   "id": "6cf4a43b",
   "metadata": {},
   "outputs": [
    {
     "data": {
      "text/plain": [
       "100"
      ]
     },
     "execution_count": 78,
     "metadata": {},
     "output_type": "execute_result"
    }
   ],
   "source": [
    "findbig(100,55)"
   ]
  },
  {
   "cell_type": "code",
   "execution_count": 80,
   "id": "795fa95b",
   "metadata": {},
   "outputs": [],
   "source": [
    "b=lambda x,y : x if x>y else y"
   ]
  },
  {
   "cell_type": "code",
   "execution_count": 81,
   "id": "d563201c",
   "metadata": {},
   "outputs": [
    {
     "data": {
      "text/plain": [
       "20"
      ]
     },
     "execution_count": 81,
     "metadata": {},
     "output_type": "execute_result"
    }
   ],
   "source": [
    "b(10,20)"
   ]
  },
  {
   "cell_type": "code",
   "execution_count": 82,
   "id": "316ea9c3",
   "metadata": {},
   "outputs": [
    {
     "data": {
      "text/plain": [
       "33"
      ]
     },
     "execution_count": 82,
     "metadata": {},
     "output_type": "execute_result"
    }
   ],
   "source": [
    "b(6,33)"
   ]
  },
  {
   "cell_type": "code",
   "execution_count": 83,
   "id": "d7ca2c3a",
   "metadata": {},
   "outputs": [
    {
     "data": {
      "text/plain": [
       "433"
      ]
     },
     "execution_count": 83,
     "metadata": {},
     "output_type": "execute_result"
    }
   ],
   "source": [
    "b(433,32)"
   ]
  },
  {
   "cell_type": "code",
   "execution_count": null,
   "id": "89c82fb2",
   "metadata": {},
   "outputs": [],
   "source": [
    "# Create a lambda function to get sum and division of two number"
   ]
  },
  {
   "cell_type": "code",
   "execution_count": 84,
   "id": "d4f7ccea",
   "metadata": {},
   "outputs": [
    {
     "data": {
      "text/plain": [
       "11"
      ]
     },
     "execution_count": 84,
     "metadata": {},
     "output_type": "execute_result"
    }
   ],
   "source": [
    "(lambda x,y:x+y)(5,6)"
   ]
  },
  {
   "cell_type": "code",
   "execution_count": 85,
   "id": "40941bc2",
   "metadata": {},
   "outputs": [
    {
     "data": {
      "text/plain": [
       "0.8333333333333334"
      ]
     },
     "execution_count": 85,
     "metadata": {},
     "output_type": "execute_result"
    }
   ],
   "source": [
    "(lambda x,y:x/y)(5,6)"
   ]
  },
  {
   "cell_type": "code",
   "execution_count": 87,
   "id": "97594167",
   "metadata": {},
   "outputs": [
    {
     "data": {
      "text/plain": [
       "(11, 0.8333333333333334, 'Capgemini')"
      ]
     },
     "execution_count": 87,
     "metadata": {},
     "output_type": "execute_result"
    }
   ],
   "source": [
    "(lambda x,y:(x+y,x/y,\"Capgemini\"))(5,6)"
   ]
  },
  {
   "cell_type": "markdown",
   "id": "a891c92c",
   "metadata": {},
   "source": [
    "# map function"
   ]
  },
  {
   "cell_type": "code",
   "execution_count": 88,
   "id": "357e01ff",
   "metadata": {},
   "outputs": [
    {
     "data": {
      "text/plain": [
       "[1, 4, 9, 16, 25, 36, 49, 64, 81, 100]"
      ]
     },
     "execution_count": 88,
     "metadata": {},
     "output_type": "execute_result"
    }
   ],
   "source": [
    "list(map(lambda x:x**2, [1,2,3,4,5,6,7,8,9,10]))"
   ]
  },
  {
   "cell_type": "code",
   "execution_count": 93,
   "id": "5133eb81",
   "metadata": {},
   "outputs": [
    {
     "name": "stdout",
     "output_type": "stream",
     "text": [
      "[1, 4, 9, 16, 25, 36, 49, 64, 81, 100]\n"
     ]
    }
   ],
   "source": [
    "result=[]\n",
    "for x in [1,2,3,4,5,6,7,8,9,10]:\n",
    "    result.append((lambda x:x**2)(x))\n",
    "print(result)"
   ]
  },
  {
   "cell_type": "code",
   "execution_count": 97,
   "id": "b20736a7",
   "metadata": {
    "collapsed": true
   },
   "outputs": [
    {
     "data": {
      "text/plain": [
       "[5,\n",
       " 10,\n",
       " 15,\n",
       " 20,\n",
       " 25,\n",
       " 30,\n",
       " 35,\n",
       " 40,\n",
       " 45,\n",
       " 50,\n",
       " 55,\n",
       " 60,\n",
       " 65,\n",
       " 70,\n",
       " 75,\n",
       " 80,\n",
       " 85,\n",
       " 90,\n",
       " 95,\n",
       " 100]"
      ]
     },
     "execution_count": 97,
     "metadata": {},
     "output_type": "execute_result"
    }
   ],
   "source": [
    "#create a map function to print multiplicaiton of 5 upto 100\n",
    "\n",
    "list(map(lambda x:x*5 , list(range(1,21))))"
   ]
  },
  {
   "cell_type": "markdown",
   "id": "eb5a1187",
   "metadata": {},
   "source": [
    "# filter "
   ]
  },
  {
   "cell_type": "code",
   "execution_count": 101,
   "id": "f238a069",
   "metadata": {},
   "outputs": [
    {
     "data": {
      "text/plain": [
       "[5,\n",
       " 10,\n",
       " 15,\n",
       " 20,\n",
       " 25,\n",
       " 30,\n",
       " 35,\n",
       " 40,\n",
       " 45,\n",
       " 50,\n",
       " 55,\n",
       " 60,\n",
       " 65,\n",
       " 70,\n",
       " 75,\n",
       " 80,\n",
       " 85,\n",
       " 90,\n",
       " 95,\n",
       " 100]"
      ]
     },
     "execution_count": 101,
     "metadata": {},
     "output_type": "execute_result"
    }
   ],
   "source": [
    "list(filter(lambda x:x%5==0, list(range(1,101))))"
   ]
  },
  {
   "cell_type": "code",
   "execution_count": 103,
   "id": "99c8d6d4",
   "metadata": {},
   "outputs": [
    {
     "data": {
      "text/plain": [
       "['bangalore', 'kolkatta']"
      ]
     },
     "execution_count": 103,
     "metadata": {},
     "output_type": "execute_result"
    }
   ],
   "source": [
    "list(filter(lambda x:x.islower(),['CHENNAI','bangalore','MUMBAI','DELHI','kolkatta']))"
   ]
  },
  {
   "cell_type": "markdown",
   "id": "e08c5429",
   "metadata": {},
   "source": [
    "# reduce"
   ]
  },
  {
   "cell_type": "code",
   "execution_count": 105,
   "id": "78899cbd",
   "metadata": {},
   "outputs": [],
   "source": [
    "def add_nums(x,y):\n",
    "    return x+y"
   ]
  },
  {
   "cell_type": "code",
   "execution_count": 109,
   "id": "9f2ada6e",
   "metadata": {},
   "outputs": [
    {
     "data": {
      "text/plain": [
       "720"
      ]
     },
     "execution_count": 109,
     "metadata": {},
     "output_type": "execute_result"
    }
   ],
   "source": [
    "from functools import re\n",
    "duce\n",
    "reduce(lambda x,y:x*y, [1,2,3,4,5,6])"
   ]
  },
  {
   "cell_type": "code",
   "execution_count": 108,
   "id": "0f31e73f",
   "metadata": {},
   "outputs": [
    {
     "data": {
      "text/plain": [
       "21"
      ]
     },
     "execution_count": 108,
     "metadata": {},
     "output_type": "execute_result"
    }
   ],
   "source": [
    "reduce(add_nums, [1,2,3,4,5,6])"
   ]
  },
  {
   "cell_type": "code",
   "execution_count": 114,
   "id": "6afaa47f",
   "metadata": {},
   "outputs": [],
   "source": [
    "def circle_area(r):\n",
    "    return round(3.14*r*r,1)"
   ]
  },
  {
   "cell_type": "code",
   "execution_count": 115,
   "id": "c850d15e",
   "metadata": {},
   "outputs": [
    {
     "data": {
      "text/plain": [
       "[3.1, 12.6, 28.3, 50.2, 78.5, 113.0, 153.9, 201.0, 254.3, 314.0]"
      ]
     },
     "execution_count": 115,
     "metadata": {},
     "output_type": "execute_result"
    }
   ],
   "source": [
    "list(map(circle_area,[1,2,3,4,5,6,7,8,9,10]))"
   ]
  },
  {
   "cell_type": "code",
   "execution_count": 116,
   "id": "5ba77e47",
   "metadata": {},
   "outputs": [],
   "source": [
    "# DECORATORS"
   ]
  },
  {
   "cell_type": "code",
   "execution_count": 117,
   "id": "c6cbe1ed",
   "metadata": {},
   "outputs": [
    {
     "name": "stdout",
     "output_type": "stream",
     "text": [
      "[1, 4, 9, 16, 25, 36, 49, 64, 81, 100]\n"
     ]
    }
   ],
   "source": [
    "def squareit(nums):\n",
    "    result=[]\n",
    "    for x in nums:\n",
    "        result.append(x**2)\n",
    "    return result\n",
    "\n",
    "x=list(range(1,11))\n",
    "print(squareit(x))"
   ]
  },
  {
   "cell_type": "code",
   "execution_count": 119,
   "id": "f22bd5b5",
   "metadata": {},
   "outputs": [
    {
     "name": "stdout",
     "output_type": "stream",
     "text": [
      "Squareit function took  0.0 milli seconds\n",
      "[1, 4, 9, 16, 25, 36, 49, 64, 81, 100]\n",
      "Cubeit function took  0.0 milli seconds\n",
      "[1, 8, 27, 64, 125, 216, 343, 512, 729, 1000]\n"
     ]
    }
   ],
   "source": [
    "import time\n",
    "\n",
    "def squareit(nums):\n",
    "    result=[]\n",
    "    start=time.time()\n",
    "    for x in nums:\n",
    "        result.append(x**2)\n",
    "    end=time.time()\n",
    "    print(\"Squareit function took \", str((end-start)*1000) + ' milli seconds')\n",
    "    return result\n",
    "\n",
    "\n",
    "def cubeit(nums):\n",
    "    result=[]\n",
    "    start = time.time()\n",
    "    for x in nums:\n",
    "        result.append(x**3)\n",
    "    end = time.time()\n",
    "    print(\"Cubeit function took \", str((end - start) * 1000) + ' milli seconds')\n",
    "    return result\n",
    "\n",
    "x=list(range(1,11))\n",
    "print(squareit(x))\n",
    "print(cubeit(x))"
   ]
  },
  {
   "cell_type": "markdown",
   "id": "3eebd05e",
   "metadata": {},
   "source": [
    "# Function Vs Generator"
   ]
  },
  {
   "cell_type": "code",
   "execution_count": 126,
   "id": "3c4e824b",
   "metadata": {},
   "outputs": [
    {
     "name": "stdout",
     "output_type": "stream",
     "text": [
      "Memory {BEFORE}[101.86328125] MB\n",
      "Memory {AFTER}[101.87109375] MB\n",
      "Generator took 0.0 milli seconds\n"
     ]
    }
   ],
   "source": [
    "import memory_profiler as mem_profile\n",
    "import random\n",
    "from time import process_time\n",
    "\n",
    "print('Memory {BEFORE}'+str(mem_profile.memory_usage())+ ' MB')\n",
    "name=['Raghul','Ramesh','Malini','Ashwin','Ramu','Elakya']\n",
    "courses=['Engineering','Medicine','Arts','Science','Diplamo']\n",
    "\n",
    "def people_courses(nums):\n",
    "    result=[]\n",
    "    for i in range(nums):\n",
    "        person={\n",
    "            'id':i,\n",
    "            'name':random.choice(name),\n",
    "            'dept':random.choice(courses)\n",
    "        }\n",
    "        result.append(person)\n",
    "    return result\n",
    "\n",
    "def course_generator(nums):\n",
    "    for i in range(nums):\n",
    "        person={\n",
    "            'id':i,\n",
    "            'name':random.choice(name),\n",
    "            'dept':random.choice(courses)\n",
    "        }\n",
    "        yield person\n",
    "\n",
    "start=process_time()\n",
    "#people_courses(10000000)\n",
    "course_generator(10000000)\n",
    "end=process_time()\n",
    "print('Memory {AFTER}'+str(mem_profile.memory_usage())+ ' MB')\n",
    "print('Generator took', str((end-start)*1000) + ' milli seconds')\n"
   ]
  },
  {
   "cell_type": "code",
   "execution_count": null,
   "id": "68a822fd",
   "metadata": {},
   "outputs": [],
   "source": [
    "Memory {BEFORE}[101.59765625] MB\n",
    "Memory {AFTER}[102.359375] MB\n",
    "Function took 9000.0 milli seconds"
   ]
  },
  {
   "cell_type": "code",
   "execution_count": 127,
   "id": "59655007",
   "metadata": {},
   "outputs": [
    {
     "name": "stdout",
     "output_type": "stream",
     "text": [
      "Requirement already satisfied: memory_profiler in c:\\users\\raghulramesh\\appdata\\local\\programs\\python\\python38\\lib\\site-packages (0.60.0)\n",
      "Requirement already satisfied: psutil in c:\\users\\raghulramesh\\appdata\\local\\programs\\python\\python38\\lib\\site-packages (from memory_profiler) (5.9.0)\n",
      "Note: you may need to restart the kernel to use updated packages.\n"
     ]
    },
    {
     "name": "stderr",
     "output_type": "stream",
     "text": [
      "WARNING: You are using pip version 21.1.1; however, version 22.1.2 is available.\n",
      "You should consider upgrading via the 'c:\\users\\raghulramesh\\appdata\\local\\programs\\python\\python38\\python.exe -m pip install --upgrade pip' command.\n"
     ]
    }
   ],
   "source": [
    "pip install memory_profiler"
   ]
  },
  {
   "cell_type": "code",
   "execution_count": null,
   "id": "7ff8f112",
   "metadata": {},
   "outputs": [],
   "source": []
  }
 ],
 "metadata": {
  "kernelspec": {
   "display_name": "Python 3 (ipykernel)",
   "language": "python",
   "name": "python3"
  },
  "language_info": {
   "codemirror_mode": {
    "name": "ipython",
    "version": 3
   },
   "file_extension": ".py",
   "mimetype": "text/x-python",
   "name": "python",
   "nbconvert_exporter": "python",
   "pygments_lexer": "ipython3",
   "version": "3.8.10"
  }
 },
 "nbformat": 4,
 "nbformat_minor": 5
}
