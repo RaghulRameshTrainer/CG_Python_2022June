{
 "cells": [
  {
   "cell_type": "code",
   "execution_count": 1,
   "id": "91f0ef86",
   "metadata": {},
   "outputs": [],
   "source": [
    "import math"
   ]
  },
  {
   "cell_type": "code",
   "execution_count": 2,
   "id": "6b87a84f",
   "metadata": {},
   "outputs": [
    {
     "name": "stdout",
     "output_type": "stream",
     "text": [
      "['__doc__', '__loader__', '__name__', '__package__', '__spec__', 'acos', 'acosh', 'asin', 'asinh', 'atan', 'atan2', 'atanh', 'ceil', 'comb', 'copysign', 'cos', 'cosh', 'degrees', 'dist', 'e', 'erf', 'erfc', 'exp', 'expm1', 'fabs', 'factorial', 'floor', 'fmod', 'frexp', 'fsum', 'gamma', 'gcd', 'hypot', 'inf', 'isclose', 'isfinite', 'isinf', 'isnan', 'isqrt', 'ldexp', 'lgamma', 'log', 'log10', 'log1p', 'log2', 'modf', 'nan', 'perm', 'pi', 'pow', 'prod', 'radians', 'remainder', 'sin', 'sinh', 'sqrt', 'tan', 'tanh', 'tau', 'trunc']\n"
     ]
    }
   ],
   "source": [
    "print(dir(math))"
   ]
  },
  {
   "cell_type": "code",
   "execution_count": 3,
   "id": "3018066c",
   "metadata": {},
   "outputs": [],
   "source": [
    "x=10.65"
   ]
  },
  {
   "cell_type": "code",
   "execution_count": 4,
   "id": "e4b993e5",
   "metadata": {},
   "outputs": [
    {
     "data": {
      "text/plain": [
       "11"
      ]
     },
     "execution_count": 4,
     "metadata": {},
     "output_type": "execute_result"
    }
   ],
   "source": [
    "math.ceil(x)"
   ]
  },
  {
   "cell_type": "code",
   "execution_count": 5,
   "id": "d64aa50e",
   "metadata": {},
   "outputs": [
    {
     "data": {
      "text/plain": [
       "10"
      ]
     },
     "execution_count": 5,
     "metadata": {},
     "output_type": "execute_result"
    }
   ],
   "source": [
    "math.floor(x)"
   ]
  },
  {
   "cell_type": "code",
   "execution_count": 6,
   "id": "67b638fd",
   "metadata": {},
   "outputs": [
    {
     "data": {
      "text/plain": [
       "2.718281828459045"
      ]
     },
     "execution_count": 6,
     "metadata": {},
     "output_type": "execute_result"
    }
   ],
   "source": [
    "math.e"
   ]
  },
  {
   "cell_type": "code",
   "execution_count": 7,
   "id": "60c2d7aa",
   "metadata": {},
   "outputs": [
    {
     "data": {
      "text/plain": [
       "3.141592653589793"
      ]
     },
     "execution_count": 7,
     "metadata": {},
     "output_type": "execute_result"
    }
   ],
   "source": [
    "math.pi"
   ]
  },
  {
   "cell_type": "code",
   "execution_count": 8,
   "id": "d706f555",
   "metadata": {},
   "outputs": [
    {
     "data": {
      "text/plain": [
       "10.0"
      ]
     },
     "execution_count": 8,
     "metadata": {},
     "output_type": "execute_result"
    }
   ],
   "source": [
    "math.sqrt(100)"
   ]
  },
  {
   "cell_type": "code",
   "execution_count": 9,
   "id": "b465e6bf",
   "metadata": {},
   "outputs": [
    {
     "data": {
      "text/plain": [
       "4846.435184751778"
      ]
     },
     "execution_count": 9,
     "metadata": {},
     "output_type": "execute_result"
    }
   ],
   "source": [
    "math.sqrt(23487934)"
   ]
  },
  {
   "cell_type": "code",
   "execution_count": 10,
   "id": "affe1dfb",
   "metadata": {},
   "outputs": [
    {
     "data": {
      "text/plain": [
       "11.0"
      ]
     },
     "execution_count": 10,
     "metadata": {},
     "output_type": "execute_result"
    }
   ],
   "source": [
    "math.sqrt(121)"
   ]
  },
  {
   "cell_type": "code",
   "execution_count": 11,
   "id": "f5516fed",
   "metadata": {},
   "outputs": [
    {
     "data": {
      "text/plain": [
       "125.0"
      ]
     },
     "execution_count": 11,
     "metadata": {},
     "output_type": "execute_result"
    }
   ],
   "source": [
    "math.pow(5,3)"
   ]
  },
  {
   "cell_type": "code",
   "execution_count": 14,
   "id": "9a29854b",
   "metadata": {},
   "outputs": [
    {
     "data": {
      "text/plain": [
       "30"
      ]
     },
     "execution_count": 14,
     "metadata": {},
     "output_type": "execute_result"
    }
   ],
   "source": [
    "math.prod([5,6])"
   ]
  },
  {
   "cell_type": "code",
   "execution_count": 15,
   "id": "5ae019bc",
   "metadata": {},
   "outputs": [
    {
     "data": {
      "text/plain": [
       "30"
      ]
     },
     "execution_count": 15,
     "metadata": {},
     "output_type": "execute_result"
    }
   ],
   "source": [
    "5*6"
   ]
  },
  {
   "cell_type": "code",
   "execution_count": 16,
   "id": "7f256771",
   "metadata": {},
   "outputs": [
    {
     "data": {
      "text/plain": [
       "0.0"
      ]
     },
     "execution_count": 16,
     "metadata": {},
     "output_type": "execute_result"
    }
   ],
   "source": [
    "math.sin(0)"
   ]
  },
  {
   "cell_type": "code",
   "execution_count": 17,
   "id": "5e23ec5e",
   "metadata": {},
   "outputs": [
    {
     "data": {
      "text/plain": [
       "0.8939966636005579"
      ]
     },
     "execution_count": 17,
     "metadata": {},
     "output_type": "execute_result"
    }
   ],
   "source": [
    "math.sin(90)"
   ]
  },
  {
   "cell_type": "code",
   "execution_count": 18,
   "id": "2fe08288",
   "metadata": {},
   "outputs": [
    {
     "data": {
      "text/plain": [
       "-0.4480736161291701"
      ]
     },
     "execution_count": 18,
     "metadata": {},
     "output_type": "execute_result"
    }
   ],
   "source": [
    "math.cos(90)"
   ]
  },
  {
   "cell_type": "code",
   "execution_count": 19,
   "id": "b112d034",
   "metadata": {},
   "outputs": [
    {
     "data": {
      "text/plain": [
       "1.0"
      ]
     },
     "execution_count": 19,
     "metadata": {},
     "output_type": "execute_result"
    }
   ],
   "source": [
    "math.cos(0)"
   ]
  },
  {
   "cell_type": "code",
   "execution_count": 20,
   "id": "230703e9",
   "metadata": {},
   "outputs": [
    {
     "data": {
      "text/plain": [
       "1.6197751905438615"
      ]
     },
     "execution_count": 20,
     "metadata": {},
     "output_type": "execute_result"
    }
   ],
   "source": [
    "math.tan(45)"
   ]
  },
  {
   "cell_type": "code",
   "execution_count": 21,
   "id": "fb15d97a",
   "metadata": {},
   "outputs": [
    {
     "data": {
      "text/plain": [
       "3.0"
      ]
     },
     "execution_count": 21,
     "metadata": {},
     "output_type": "execute_result"
    }
   ],
   "source": [
    "math.log10(1000)"
   ]
  },
  {
   "cell_type": "code",
   "execution_count": 23,
   "id": "3b7b9c67",
   "metadata": {},
   "outputs": [
    {
     "data": {
      "text/plain": [
       "6.0"
      ]
     },
     "execution_count": 23,
     "metadata": {},
     "output_type": "execute_result"
    }
   ],
   "source": [
    "math.log2(64)"
   ]
  },
  {
   "cell_type": "code",
   "execution_count": 24,
   "id": "41d12ff0",
   "metadata": {},
   "outputs": [
    {
     "data": {
      "text/plain": [
       "4.19180654857877"
      ]
     },
     "execution_count": 24,
     "metadata": {},
     "output_type": "execute_result"
    }
   ],
   "source": [
    "math.log(100,3)"
   ]
  },
  {
   "cell_type": "code",
   "execution_count": 25,
   "id": "65fef57c",
   "metadata": {},
   "outputs": [
    {
     "data": {
      "text/plain": [
       "120"
      ]
     },
     "execution_count": 25,
     "metadata": {},
     "output_type": "execute_result"
    }
   ],
   "source": [
    "5*4*3*2*1"
   ]
  },
  {
   "cell_type": "code",
   "execution_count": 26,
   "id": "0a299a52",
   "metadata": {},
   "outputs": [
    {
     "data": {
      "text/plain": [
       "120"
      ]
     },
     "execution_count": 26,
     "metadata": {},
     "output_type": "execute_result"
    }
   ],
   "source": [
    "math.factorial(5)"
   ]
  },
  {
   "cell_type": "code",
   "execution_count": 29,
   "id": "b87df7d8",
   "metadata": {},
   "outputs": [
    {
     "data": {
      "text/plain": [
       "2432902008176640000"
      ]
     },
     "execution_count": 29,
     "metadata": {},
     "output_type": "execute_result"
    }
   ],
   "source": [
    "math.factorial(20)"
   ]
  },
  {
   "cell_type": "code",
   "execution_count": 55,
   "id": "addd0c62",
   "metadata": {},
   "outputs": [
    {
     "data": {
      "text/plain": [
       "[1, 2, 3, 4, 5, 6]"
      ]
     },
     "execution_count": 55,
     "metadata": {},
     "output_type": "execute_result"
    }
   ],
   "source": [
    "# Write a program to remove the duplication from the below given list \n",
    "data=[1,4,3,5,6,2,4,5,2,1,6]   # use set\n",
    "\n",
    "list(set(data))\n"
   ]
  },
  {
   "cell_type": "code",
   "execution_count": 70,
   "id": "77be684c",
   "metadata": {},
   "outputs": [
    {
     "ename": "SyntaxError",
     "evalue": "invalid syntax (3640872119.py, line 5)",
     "output_type": "error",
     "traceback": [
      "\u001b[1;36m  Input \u001b[1;32mIn [70]\u001b[1;36m\u001b[0m\n\u001b[1;33m    (lambda x,y,z: x if x>y and y>z  elif y>x and y>z ; return y; else z )(100,150,10)\u001b[0m\n\u001b[1;37m                                     ^\u001b[0m\n\u001b[1;31mSyntaxError\u001b[0m\u001b[1;31m:\u001b[0m invalid syntax\n"
     ]
    }
   ],
   "source": [
    "# Write a lambda function to find a biggest number from the given 3 numbers  # use max()\n",
    "#syntax: lambda x:expr\n",
    "#(lambda x,y,z:sum([x,y,z]))(10,20,30)\n",
    "\n",
    "#(lambda x,y,z: x if x>y and y>z  elif y>x and y>z  return y else z )(100,150,10)\n"
   ]
  },
  {
   "cell_type": "code",
   "execution_count": 71,
   "id": "0b5dfb94",
   "metadata": {},
   "outputs": [
    {
     "name": "stdout",
     "output_type": "stream",
     "text": [
      "Python\n",
      "Spark\n",
      "Oracle\n",
      "Hadoop\n",
      "AIML\n"
     ]
    }
   ],
   "source": [
    "# Write a file with the following content and print them   # use w+ mode\n",
    "#         Python\n",
    "#         Spark\n",
    "#         Oracle\n",
    "#         Hadoop\n",
    "#         AIML\n",
    "\n",
    "with open('technology.txt','w+') as fo:\n",
    "    fo.writelines(['Python\\n','Spark\\n','Oracle\\n','Hadoop\\n','AIML'])\n",
    "    fo.seek(0,0)\n",
    "    print(fo.read())"
   ]
  },
  {
   "cell_type": "code",
   "execution_count": null,
   "id": "67ced177",
   "metadata": {},
   "outputs": [],
   "source": []
  },
  {
   "cell_type": "code",
   "execution_count": 30,
   "id": "37c386cf",
   "metadata": {},
   "outputs": [],
   "source": [
    "import os"
   ]
  },
  {
   "cell_type": "code",
   "execution_count": 31,
   "id": "4a7028cf",
   "metadata": {},
   "outputs": [
    {
     "data": {
      "text/plain": [
       "'C:\\\\Users\\\\RaghulRamesh\\\\Excelr_Python_June2022'"
      ]
     },
     "execution_count": 31,
     "metadata": {},
     "output_type": "execute_result"
    }
   ],
   "source": [
    "os.getcwd()"
   ]
  },
  {
   "cell_type": "code",
   "execution_count": 32,
   "id": "71eeedae",
   "metadata": {},
   "outputs": [],
   "source": [
    "os.chdir(r'C:\\Users\\RaghulRamesh\\CG_Python2022June')"
   ]
  },
  {
   "cell_type": "code",
   "execution_count": 33,
   "id": "174cfa18",
   "metadata": {},
   "outputs": [
    {
     "data": {
      "text/plain": [
       "'C:\\\\Users\\\\RaghulRamesh\\\\CG_Python2022June'"
      ]
     },
     "execution_count": 33,
     "metadata": {},
     "output_type": "execute_result"
    }
   ],
   "source": [
    "os.getcwd()"
   ]
  },
  {
   "cell_type": "code",
   "execution_count": 36,
   "id": "4f1d2554",
   "metadata": {},
   "outputs": [],
   "source": [
    "with open('cg_data.txt','w') as wd:\n",
    "    wd.writelines(['India\\n','Canada\\n','Singapore\\n','SriLanka\\n','Japan'])"
   ]
  },
  {
   "cell_type": "code",
   "execution_count": 37,
   "id": "bfd7aa23",
   "metadata": {},
   "outputs": [],
   "source": [
    "os.rename('cg_data.txt','country.txt')"
   ]
  },
  {
   "cell_type": "code",
   "execution_count": 38,
   "id": "580acc83",
   "metadata": {},
   "outputs": [],
   "source": [
    "os.remove('country.txt')"
   ]
  },
  {
   "cell_type": "code",
   "execution_count": 39,
   "id": "582ad236",
   "metadata": {},
   "outputs": [],
   "source": [
    "os.mkdir('friday')"
   ]
  },
  {
   "cell_type": "code",
   "execution_count": 40,
   "id": "921d5120",
   "metadata": {},
   "outputs": [],
   "source": [
    "os.rmdir('friday')"
   ]
  },
  {
   "cell_type": "code",
   "execution_count": 42,
   "id": "4887a1e9",
   "metadata": {},
   "outputs": [],
   "source": [
    "os.makedirs(r'course\\python\\friday')"
   ]
  },
  {
   "cell_type": "code",
   "execution_count": 46,
   "id": "de496935",
   "metadata": {},
   "outputs": [],
   "source": [
    "os.removedirs(r'course\\python\\friday')"
   ]
  },
  {
   "cell_type": "code",
   "execution_count": 47,
   "id": "add5346d",
   "metadata": {},
   "outputs": [],
   "source": [
    "import shutil"
   ]
  },
  {
   "cell_type": "code",
   "execution_count": 48,
   "id": "bcd5a15e",
   "metadata": {},
   "outputs": [],
   "source": [
    "with open('newfile.txt','w') as fh:\n",
    "    fh.write(\"Hello\")"
   ]
  },
  {
   "cell_type": "code",
   "execution_count": 49,
   "id": "04a93c3a",
   "metadata": {},
   "outputs": [
    {
     "data": {
      "text/plain": [
       "'backupfile.file'"
      ]
     },
     "execution_count": 49,
     "metadata": {},
     "output_type": "execute_result"
    }
   ],
   "source": [
    "shutil.copy('newfile.txt','backupfile.file')"
   ]
  },
  {
   "cell_type": "code",
   "execution_count": 50,
   "id": "0bccc460",
   "metadata": {},
   "outputs": [
    {
     "data": {
      "text/plain": [
       "'bkup.txt'"
      ]
     },
     "execution_count": 50,
     "metadata": {},
     "output_type": "execute_result"
    }
   ],
   "source": [
    "shutil.move('backupfile.file','bkup.txt')"
   ]
  },
  {
   "cell_type": "code",
   "execution_count": 52,
   "id": "051bf11c",
   "metadata": {},
   "outputs": [],
   "source": [
    "os.chmod('bkup.txt',751)   # r->4 , w->2 , x->1"
   ]
  },
  {
   "cell_type": "code",
   "execution_count": 53,
   "id": "1b3bd5da",
   "metadata": {},
   "outputs": [
    {
     "data": {
      "text/plain": [
       "['.ipynb_checkpoints',\n",
       " 'bkup.txt',\n",
       " 'Introduction_copied.ipynb',\n",
       " 'newfile.txt',\n",
       " 'Python_Day1.ipynb',\n",
       " 'Python_day2.ipynb',\n",
       " 'Untitled.ipynb']"
      ]
     },
     "execution_count": 53,
     "metadata": {},
     "output_type": "execute_result"
    }
   ],
   "source": [
    "os.listdir()"
   ]
  },
  {
   "cell_type": "code",
   "execution_count": 72,
   "id": "52eb4b48",
   "metadata": {},
   "outputs": [],
   "source": [
    "import datetime"
   ]
  },
  {
   "cell_type": "code",
   "execution_count": 73,
   "id": "84ec50b0",
   "metadata": {},
   "outputs": [
    {
     "name": "stdout",
     "output_type": "stream",
     "text": [
      "['MAXYEAR', 'MINYEAR', '__builtins__', '__cached__', '__doc__', '__file__', '__loader__', '__name__', '__package__', '__spec__', 'date', 'datetime', 'datetime_CAPI', 'sys', 'time', 'timedelta', 'timezone', 'tzinfo']\n"
     ]
    }
   ],
   "source": [
    "print(dir(datetime))"
   ]
  },
  {
   "cell_type": "code",
   "execution_count": 77,
   "id": "248adf5e",
   "metadata": {},
   "outputs": [],
   "source": [
    "dob=datetime.date(1985,1,11)"
   ]
  },
  {
   "cell_type": "code",
   "execution_count": 75,
   "id": "7ab8460c",
   "metadata": {},
   "outputs": [
    {
     "data": {
      "text/plain": [
       "1985"
      ]
     },
     "execution_count": 75,
     "metadata": {},
     "output_type": "execute_result"
    }
   ],
   "source": [
    "dob.year"
   ]
  },
  {
   "cell_type": "code",
   "execution_count": 76,
   "id": "a42b47ea",
   "metadata": {},
   "outputs": [
    {
     "data": {
      "text/plain": [
       "1"
      ]
     },
     "execution_count": 76,
     "metadata": {},
     "output_type": "execute_result"
    }
   ],
   "source": [
    "dob.month"
   ]
  },
  {
   "cell_type": "code",
   "execution_count": 79,
   "id": "0022bcb8",
   "metadata": {},
   "outputs": [
    {
     "data": {
      "text/plain": [
       "11"
      ]
     },
     "execution_count": 79,
     "metadata": {},
     "output_type": "execute_result"
    }
   ],
   "source": [
    "dob.day"
   ]
  },
  {
   "cell_type": "code",
   "execution_count": 82,
   "id": "f5022a39",
   "metadata": {},
   "outputs": [],
   "source": [
    "tday=datetime.date(2022,6,17)"
   ]
  },
  {
   "cell_type": "code",
   "execution_count": 83,
   "id": "33c8f5a0",
   "metadata": {},
   "outputs": [],
   "source": [
    "dt=datetime.timedelta(100)"
   ]
  },
  {
   "cell_type": "code",
   "execution_count": 84,
   "id": "27dab68e",
   "metadata": {},
   "outputs": [
    {
     "data": {
      "text/plain": [
       "datetime.date(2022, 9, 25)"
      ]
     },
     "execution_count": 84,
     "metadata": {},
     "output_type": "execute_result"
    }
   ],
   "source": [
    "tday+dt"
   ]
  },
  {
   "cell_type": "code",
   "execution_count": 85,
   "id": "8cacbda9",
   "metadata": {},
   "outputs": [
    {
     "data": {
      "text/plain": [
       "datetime.date(2022, 3, 9)"
      ]
     },
     "execution_count": 85,
     "metadata": {},
     "output_type": "execute_result"
    }
   ],
   "source": [
    "tday-dt"
   ]
  },
  {
   "cell_type": "code",
   "execution_count": 87,
   "id": "b815b9b2",
   "metadata": {},
   "outputs": [],
   "source": [
    "tday=datetime.datetime.today()"
   ]
  },
  {
   "cell_type": "code",
   "execution_count": 92,
   "id": "ff12d2e2",
   "metadata": {},
   "outputs": [
    {
     "data": {
      "text/plain": [
       "'06/17/2022'"
      ]
     },
     "execution_count": 92,
     "metadata": {},
     "output_type": "execute_result"
    }
   ],
   "source": [
    "tday.strftime(\"%m/%d/%Y\")"
   ]
  },
  {
   "cell_type": "code",
   "execution_count": 99,
   "id": "2139d077",
   "metadata": {},
   "outputs": [
    {
     "data": {
      "text/plain": [
       "'Friday,17 June, 2022 22:08'"
      ]
     },
     "execution_count": 99,
     "metadata": {},
     "output_type": "execute_result"
    }
   ],
   "source": [
    "tday.strftime(\"%A,%d %B, %Y %H:%M\")"
   ]
  },
  {
   "cell_type": "code",
   "execution_count": 106,
   "id": "0cf18274",
   "metadata": {},
   "outputs": [
    {
     "data": {
      "text/plain": [
       "'Friday,17 June, 2022 10:14:39 PM'"
      ]
     },
     "execution_count": 106,
     "metadata": {},
     "output_type": "execute_result"
    }
   ],
   "source": [
    "datetime.datetime.today().strftime(\"%A,%d %B, %Y %I:%M:%S %p\")"
   ]
  },
  {
   "cell_type": "code",
   "execution_count": 104,
   "id": "58eebac3",
   "metadata": {},
   "outputs": [
    {
     "data": {
      "text/plain": [
       "datetime.datetime(2022, 6, 17, 22, 14, 8, 994245)"
      ]
     },
     "execution_count": 104,
     "metadata": {},
     "output_type": "execute_result"
    }
   ],
   "source": [
    "datetime.datetime.now()"
   ]
  },
  {
   "cell_type": "code",
   "execution_count": null,
   "id": "26fb3af9",
   "metadata": {},
   "outputs": [],
   "source": [
    "17-june-2022 22:18 , Friday"
   ]
  },
  {
   "cell_type": "code",
   "execution_count": 107,
   "id": "76b8093f",
   "metadata": {},
   "outputs": [
    {
     "data": {
      "text/plain": [
       "'17-June-2022 22:22, Friday'"
      ]
     },
     "execution_count": 107,
     "metadata": {},
     "output_type": "execute_result"
    }
   ],
   "source": [
    "datetime.datetime.today().strftime(\"%d-%B-%Y %H:%M, %A\")"
   ]
  },
  {
   "cell_type": "code",
   "execution_count": null,
   "id": "1a14bc9c",
   "metadata": {},
   "outputs": [],
   "source": [
    "Please create the following function for the respective operation\n",
    "\taddition\n",
    "\tsubraction\n",
    "\tmultiplication\n",
    "\tdivision\n",
    "\n",
    "and call each function with two number and write the input and output result details in a \n",
    "log file"
   ]
  },
  {
   "cell_type": "code",
   "execution_count": 118,
   "id": "216e226e",
   "metadata": {},
   "outputs": [],
   "source": [
    "import logging\n",
    "logging.basicConfig(filename=\"C:\\\\Users\\\\RaghulRamesh\\\\calc_outputs.log\",\n",
    "                   format='%(levelname)s - %(asctime)s  - %(message)s',\n",
    "                   level=logging.DEBUG,\n",
    "                   filemode='w')\n",
    "logger=logging.getLogger()\n",
    "\n",
    "def addition(x,y):\n",
    "    '''addition function takes two number as an input and returns sum of them'''\n",
    "    return x+y\n",
    "\n",
    "def subraction(x,y):\n",
    "    '''subraction function take two number and return difference between them'''\n",
    "    return x-y\n",
    "    \n",
    "def multiplication(x,y):\n",
    "    '''multiplication function takes numeric input and return prod of them'''\n",
    "    return x*y\n",
    "    \n",
    "def division(x,y):\n",
    "    '''division function take 2 number and return division result'''\n",
    "    return x/y\n",
    "\n",
    "num1=10\n",
    "num2=20\n",
    "\n",
    "add_result=addition(num1,num2)\n",
    "logger.info(\"Addition : {} + {} = {}\".format(num1,num2,add_result))\n",
    "sub_result=subraction(num1,num2)\n",
    "logger.info(\"Subraction : {} - {} = {}\".format(num1,num2,sub_result))\n",
    "mul_result=multiplication(num1,num2)\n",
    "logger.info(\"Multiplicaiton : {} * {} = {}\".format(num1, num2, mul_result))\n",
    "div_result=division(num1,num2)\n",
    "logger.info(\"Division : {} / {} = {} \".format(num1,num2,div_result))"
   ]
  },
  {
   "cell_type": "code",
   "execution_count": 113,
   "id": "91c6d063",
   "metadata": {},
   "outputs": [
    {
     "data": {
      "text/plain": [
       "'C:\\\\Users\\\\RaghulRamesh\\\\CG_Python2022June'"
      ]
     },
     "execution_count": 113,
     "metadata": {},
     "output_type": "execute_result"
    }
   ],
   "source": [
    "import os\n",
    "os.getcwd()"
   ]
  },
  {
   "cell_type": "code",
   "execution_count": null,
   "id": "8360ccaa",
   "metadata": {},
   "outputs": [],
   "source": []
  }
 ],
 "metadata": {
  "kernelspec": {
   "display_name": "Python 3 (ipykernel)",
   "language": "python",
   "name": "python3"
  },
  "language_info": {
   "codemirror_mode": {
    "name": "ipython",
    "version": 3
   },
   "file_extension": ".py",
   "mimetype": "text/x-python",
   "name": "python",
   "nbconvert_exporter": "python",
   "pygments_lexer": "ipython3",
   "version": "3.8.10"
  }
 },
 "nbformat": 4,
 "nbformat_minor": 5
}
